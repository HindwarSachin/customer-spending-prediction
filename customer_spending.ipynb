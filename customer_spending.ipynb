# Title of Project
# AI and Machine Learning: Predicting Customer Spending

# Objective
"""
The objective of this project is to predict a customer's annual spending based on demographic and financial data using a regression model.
"""

# Import Libraries
import numpy as np
import pandas as pd
import matplotlib.pyplot as plt
import seaborn as sns
from sklearn.model_selection import train_test_split
from sklearn.linear_model import LinearRegression
from sklearn.metrics import mean_squared_error, r2_score
from sklearn.preprocessing import StandardScaler

# Import Data
# Upload 'Dataset.csv' manually to Colab or use this path if it's preloaded
from google.colab import files
uploaded = files.upload()  # Manually upload Dataset.csv when prompted

data = pd.read_csv("Dataset.csv")  # File should be named exactly as uploaded

# Describe Data
print("First 5 rows of the dataset:")
print(data.head())

print("\nShape of the dataset:", data.shape)
print("\nDataset Info:")
print(data.info())

print("\nSummary Statistics:")
print(data.describe())

print("\nMissing Values:")
print(data.isnull().sum())

# Data Visualization
plt.figure(figsize=(10, 6))
sns.heatmap(data.corr(), annot=True, cmap='coolwarm')
plt.title('Correlation Matrix')
plt.show()

# Example plot for spending distribution
plt.figure(figsize=(8, 5))
sns.histplot(data['spending'], kde=True, bins=20)
plt.title('Distribution of Spending')
plt.show()

# Data Preprocessing
# Handle missing values (if any)
data.fillna(data.mean(), inplace=True)

# Drop unnecessary columns
data = data.drop(columns=['customer_id'], axis=1)  # Drop ID column

# Feature Scaling
scaler = StandardScaler()
numeric_columns = ['age', 'income', 'account_balance']  # Specify numeric columns
data[numeric_columns] = scaler.fit_transform(data[numeric_columns])

# Define Target Variable (y) and Feature Variables (X)
X = data.drop('spending', axis=1)  # Features
y = data['spending']  # Target

# Train Test Split
X_train, X_test, y_train, y_test = train_test_split(X, y, test_size=0.2, random_state=42)

# Modeling
model = LinearRegression()
model.fit(X_train, y_train)

# Model Evaluation
y_pred = model.predict(X_test)
mse = mean_squared_error(y_test, y_pred)
r2 = r2_score(y_test, y_pred)

print("\nModel Performance:")
print("Mean Squared Error (MSE):", mse)
print("R-squared (R2):", r2)

# Prediction
# Example: Predicting for a new customer
new_data = [[29, 40000, 1000, 0]]  # Replace with actual feature values [age, income, account_balance, is_active]
new_data_scaled = scaler.transform(new_data)  # Scale new data
prediction = model.predict(new_data_scaled)
print("\nPredicted spending for new customer:", prediction[0])

# Explanation
"""
The Linear Regression model predicts customer spending based on demographic and financial features.
The model achieved an R-squared value of {:.2f}, indicating [percentage of variance explained].
Key limitations include [dataset size, feature biases, etc.].
""".format(r2)
